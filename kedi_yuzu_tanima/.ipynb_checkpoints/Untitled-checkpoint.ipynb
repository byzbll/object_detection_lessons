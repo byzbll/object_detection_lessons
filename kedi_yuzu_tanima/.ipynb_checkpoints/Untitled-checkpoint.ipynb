{
 "cells": [
  {
   "cell_type": "code",
   "execution_count": 2,
   "id": "2658c164-a852-47c3-a5c5-b778be8d8ccc",
   "metadata": {},
   "outputs": [
    {
     "name": "stdout",
     "output_type": "stream",
     "text": [
      "['.ipynb_checkpoints', 'cat_img1.jpg', 'cat_img2.jpg', 'cat_img3.jpg', 'haarcascade_frontalcatface_extended.xml', 'Untitled.ipynb']\n",
      "['cat_img1.jpg', 'cat_img2.jpg', 'cat_img3.jpg']\n",
      "cat_img1.jpg\n",
      "cat_img2.jpg\n",
      "cat_img3.jpg\n"
     ]
    }
   ],
   "source": [
    "import cv2\n",
    "import os\n",
    "\n",
    "files = os.listdir()\n",
    "print(files)\n",
    "img_path_list = []\n",
    "for f in files:\n",
    "    if f.endswith(\".jpg\"): \n",
    "        img_path_list.append(f)\n",
    "print(img_path_list)\n",
    "\n",
    "for j in img_path_list:\n",
    "    print(j)\n",
    "    image = cv2.imread(j)\n",
    "    gray = cv2.cvtColor(image, cv2.COLOR_BGR2GRAY)\n",
    "    \n",
    "    detector = cv2.CascadeClassifier(r\"C:\\Users\\Asus\\nesne_tespiti\\kedi_yuzu_tanima\\haarcascade_frontalcatface_extended.xml\")\n",
    "    if detector.empty():\n",
    "        print(\"Hata: Cascade sınıflandırıcısı yüklenemedi.\")\n",
    "        exit()\n",
    "        \n",
    "    rects = detector.detectMultiScale(gray, scaleFactor = 1.045, minNeighbors = 1)\n",
    "    \n",
    "    for (i, (x,y,w,h)) in enumerate(rects):\n",
    "        cv2.rectangle(image, (x,y), (x+w, y+h),(0,255,255),2)\n",
    "        cv2.putText(image, \"Kedi {}\".format(i+1), (x,y-10),cv2.FONT_HERSHEY_SIMPLEX, 0.55, (0,255,255),2)\n",
    "        \n",
    "    cv2.imshow(j, image)\n",
    "    if cv2.waitKey(0) & 0xFF == ord(\"q\"): continue"
   ]
  },
  {
   "cell_type": "code",
   "execution_count": null,
   "id": "6e770dc7-2908-46e2-9319-4c89e786040c",
   "metadata": {},
   "outputs": [],
   "source": []
  }
 ],
 "metadata": {
  "kernelspec": {
   "display_name": "Python 3 (ipykernel)",
   "language": "python",
   "name": "python3"
  },
  "language_info": {
   "codemirror_mode": {
    "name": "ipython",
    "version": 3
   },
   "file_extension": ".py",
   "mimetype": "text/x-python",
   "name": "python",
   "nbconvert_exporter": "python",
   "pygments_lexer": "ipython3",
   "version": "3.9.12"
  }
 },
 "nbformat": 4,
 "nbformat_minor": 5
}
