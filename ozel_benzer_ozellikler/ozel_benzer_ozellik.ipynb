{
 "cells": [
  {
   "cell_type": "code",
   "execution_count": null,
   "id": "7fe89e44-f6a7-4dbe-831e-d2ac7cd7e183",
   "metadata": {},
   "outputs": [],
   "source": [
    "#Resim depo klasörü\n",
    "path = \"images \"\n",
    "\n",
    "# resim boyutu\n",
    "imgWidth = 180\n",
    "imgHeight = 120\n",
    "\n",
    "# video capture\n"
   ]
  }
 ],
 "metadata": {
  "kernelspec": {
   "display_name": "Python 3 (ipykernel)",
   "language": "python",
   "name": "python3"
  },
  "language_info": {
   "codemirror_mode": {
    "name": "ipython",
    "version": 3
   },
   "file_extension": ".py",
   "mimetype": "text/x-python",
   "name": "python",
   "nbconvert_exporter": "python",
   "pygments_lexer": "ipython3",
   "version": "3.9.12"
  }
 },
 "nbformat": 4,
 "nbformat_minor": 5
}
